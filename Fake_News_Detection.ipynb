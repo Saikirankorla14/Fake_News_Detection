{
  "nbformat": 4,
  "nbformat_minor": 0,
  "metadata": {
    "colab": {
      "provenance": [],
      "gpuType": "T4"
    },
    "kernelspec": {
      "name": "python3",
      "display_name": "Python 3"
    },
    "language_info": {
      "name": "python"
    },
    "accelerator": "GPU"
  },
  "cells": [
    {
      "cell_type": "code",
      "execution_count": null,
      "metadata": {
        "id": "pgl4hj45LlcJ"
      },
      "outputs": [],
      "source": []
    },
    {
      "cell_type": "markdown",
      "metadata": {
        "id": "c20867e5"
      },
      "source": [
        "# Task\n",
        "Classify news articles as real or fake using NLP techniques (TF-IDF, BERT, or LSTM) and the \"Fake News Dataset (Kaggle)\" dataset."
      ]
    },
    {
      "cell_type": "markdown",
      "metadata": {
        "id": "f6028359"
      },
      "source": [
        "## Download and load the dataset\n",
        "\n",
        "### Subtask:\n",
        "Download the Fake News Dataset from Kaggle and load it into a pandas DataFrame.\n"
      ]
    },
    {
      "cell_type": "markdown",
      "metadata": {
        "id": "2593d690"
      },
      "source": [
        "**Reasoning**:\n",
        "Import necessary libraries and load the dataset into a pandas DataFrame.\n",
        "\n"
      ]
    },
    {
      "cell_type": "code",
      "metadata": {
        "colab": {
          "base_uri": "https://localhost:8080/"
        },
        "id": "e4e0bfbf",
        "outputId": "2309a8b8-49bd-4b7c-96f8-c41585a1c445"
      },
      "source": [
        "import kagglehub\n",
        "\n",
        "# Download latest version\n",
        "path = kagglehub.dataset_download(\"clmentbisaillon/fake-and-real-news-dataset\")\n",
        "\n",
        "print(\"Path to dataset files:\", path)"
      ],
      "execution_count": 1,
      "outputs": [
        {
          "output_type": "stream",
          "name": "stdout",
          "text": [
            "Path to dataset files: /kaggle/input/fake-and-real-news-dataset\n"
          ]
        }
      ]
    },
    {
      "cell_type": "markdown",
      "metadata": {
        "id": "74d6233b"
      },
      "source": [
        "## Download and load the dataset retry 1\n",
        "\n",
        "### Subtask:\n",
        "Download and load the Fake News Dataset from Kaggle and load it into a pandas DataFrame.\n"
      ]
    },
    {
      "cell_type": "markdown",
      "metadata": {
        "id": "0af893a3"
      },
      "source": [
        "**Reasoning**:\n",
        "Load the train.csv file into a pandas DataFrame and display the head and info of the DataFrame.\n",
        "\n"
      ]
    },
    {
      "cell_type": "code",
      "metadata": {
        "colab": {
          "base_uri": "https://localhost:8080/",
          "height": 431
        },
        "id": "ce49a22b",
        "outputId": "687a2ab9-96ce-44d4-a825-89753b225b48"
      },
      "source": [
        "import pandas as pd\n",
        "\n",
        "true_df = pd.read_csv(path + '/True.csv')\n",
        "fake_df = pd.read_csv(path + '/Fake.csv')\n",
        "\n",
        "true_df['label'] = 'real'\n",
        "fake_df['label'] = 'fake'\n",
        "\n",
        "df = pd.concat([true_df, fake_df], ignore_index=True)\n",
        "\n",
        "display(df.head())\n",
        "display(df.info())"
      ],
      "execution_count": 2,
      "outputs": [
        {
          "output_type": "display_data",
          "data": {
            "text/plain": [
              "                                               title  \\\n",
              "0  As U.S. budget fight looms, Republicans flip t...   \n",
              "1  U.S. military to accept transgender recruits o...   \n",
              "2  Senior U.S. Republican senator: 'Let Mr. Muell...   \n",
              "3  FBI Russia probe helped by Australian diplomat...   \n",
              "4  Trump wants Postal Service to charge 'much mor...   \n",
              "\n",
              "                                                text       subject  \\\n",
              "0  WASHINGTON (Reuters) - The head of a conservat...  politicsNews   \n",
              "1  WASHINGTON (Reuters) - Transgender people will...  politicsNews   \n",
              "2  WASHINGTON (Reuters) - The special counsel inv...  politicsNews   \n",
              "3  WASHINGTON (Reuters) - Trump campaign adviser ...  politicsNews   \n",
              "4  SEATTLE/WASHINGTON (Reuters) - President Donal...  politicsNews   \n",
              "\n",
              "                 date label  \n",
              "0  December 31, 2017   real  \n",
              "1  December 29, 2017   real  \n",
              "2  December 31, 2017   real  \n",
              "3  December 30, 2017   real  \n",
              "4  December 29, 2017   real  "
            ],
            "text/html": [
              "\n",
              "  <div id=\"df-b78076ed-f901-48ab-ae1f-48e7c20f26ce\" class=\"colab-df-container\">\n",
              "    <div>\n",
              "<style scoped>\n",
              "    .dataframe tbody tr th:only-of-type {\n",
              "        vertical-align: middle;\n",
              "    }\n",
              "\n",
              "    .dataframe tbody tr th {\n",
              "        vertical-align: top;\n",
              "    }\n",
              "\n",
              "    .dataframe thead th {\n",
              "        text-align: right;\n",
              "    }\n",
              "</style>\n",
              "<table border=\"1\" class=\"dataframe\">\n",
              "  <thead>\n",
              "    <tr style=\"text-align: right;\">\n",
              "      <th></th>\n",
              "      <th>title</th>\n",
              "      <th>text</th>\n",
              "      <th>subject</th>\n",
              "      <th>date</th>\n",
              "      <th>label</th>\n",
              "    </tr>\n",
              "  </thead>\n",
              "  <tbody>\n",
              "    <tr>\n",
              "      <th>0</th>\n",
              "      <td>As U.S. budget fight looms, Republicans flip t...</td>\n",
              "      <td>WASHINGTON (Reuters) - The head of a conservat...</td>\n",
              "      <td>politicsNews</td>\n",
              "      <td>December 31, 2017</td>\n",
              "      <td>real</td>\n",
              "    </tr>\n",
              "    <tr>\n",
              "      <th>1</th>\n",
              "      <td>U.S. military to accept transgender recruits o...</td>\n",
              "      <td>WASHINGTON (Reuters) - Transgender people will...</td>\n",
              "      <td>politicsNews</td>\n",
              "      <td>December 29, 2017</td>\n",
              "      <td>real</td>\n",
              "    </tr>\n",
              "    <tr>\n",
              "      <th>2</th>\n",
              "      <td>Senior U.S. Republican senator: 'Let Mr. Muell...</td>\n",
              "      <td>WASHINGTON (Reuters) - The special counsel inv...</td>\n",
              "      <td>politicsNews</td>\n",
              "      <td>December 31, 2017</td>\n",
              "      <td>real</td>\n",
              "    </tr>\n",
              "    <tr>\n",
              "      <th>3</th>\n",
              "      <td>FBI Russia probe helped by Australian diplomat...</td>\n",
              "      <td>WASHINGTON (Reuters) - Trump campaign adviser ...</td>\n",
              "      <td>politicsNews</td>\n",
              "      <td>December 30, 2017</td>\n",
              "      <td>real</td>\n",
              "    </tr>\n",
              "    <tr>\n",
              "      <th>4</th>\n",
              "      <td>Trump wants Postal Service to charge 'much mor...</td>\n",
              "      <td>SEATTLE/WASHINGTON (Reuters) - President Donal...</td>\n",
              "      <td>politicsNews</td>\n",
              "      <td>December 29, 2017</td>\n",
              "      <td>real</td>\n",
              "    </tr>\n",
              "  </tbody>\n",
              "</table>\n",
              "</div>\n",
              "    <div class=\"colab-df-buttons\">\n",
              "\n",
              "  <div class=\"colab-df-container\">\n",
              "    <button class=\"colab-df-convert\" onclick=\"convertToInteractive('df-b78076ed-f901-48ab-ae1f-48e7c20f26ce')\"\n",
              "            title=\"Convert this dataframe to an interactive table.\"\n",
              "            style=\"display:none;\">\n",
              "\n",
              "  <svg xmlns=\"http://www.w3.org/2000/svg\" height=\"24px\" viewBox=\"0 -960 960 960\">\n",
              "    <path d=\"M120-120v-720h720v720H120Zm60-500h600v-160H180v160Zm220 220h160v-160H400v160Zm0 220h160v-160H400v160ZM180-400h160v-160H180v160Zm440 0h160v-160H620v160ZM180-180h160v-160H180v160Zm440 0h160v-160H620v160Z\"/>\n",
              "  </svg>\n",
              "    </button>\n",
              "\n",
              "  <style>\n",
              "    .colab-df-container {\n",
              "      display:flex;\n",
              "      gap: 12px;\n",
              "    }\n",
              "\n",
              "    .colab-df-convert {\n",
              "      background-color: #E8F0FE;\n",
              "      border: none;\n",
              "      border-radius: 50%;\n",
              "      cursor: pointer;\n",
              "      display: none;\n",
              "      fill: #1967D2;\n",
              "      height: 32px;\n",
              "      padding: 0 0 0 0;\n",
              "      width: 32px;\n",
              "    }\n",
              "\n",
              "    .colab-df-convert:hover {\n",
              "      background-color: #E2EBFA;\n",
              "      box-shadow: 0px 1px 2px rgba(60, 64, 67, 0.3), 0px 1px 3px 1px rgba(60, 64, 67, 0.15);\n",
              "      fill: #174EA6;\n",
              "    }\n",
              "\n",
              "    .colab-df-buttons div {\n",
              "      margin-bottom: 4px;\n",
              "    }\n",
              "\n",
              "    [theme=dark] .colab-df-convert {\n",
              "      background-color: #3B4455;\n",
              "      fill: #D2E3FC;\n",
              "    }\n",
              "\n",
              "    [theme=dark] .colab-df-convert:hover {\n",
              "      background-color: #434B5C;\n",
              "      box-shadow: 0px 1px 3px 1px rgba(0, 0, 0, 0.15);\n",
              "      filter: drop-shadow(0px 1px 2px rgba(0, 0, 0, 0.3));\n",
              "      fill: #FFFFFF;\n",
              "    }\n",
              "  </style>\n",
              "\n",
              "    <script>\n",
              "      const buttonEl =\n",
              "        document.querySelector('#df-b78076ed-f901-48ab-ae1f-48e7c20f26ce button.colab-df-convert');\n",
              "      buttonEl.style.display =\n",
              "        google.colab.kernel.accessAllowed ? 'block' : 'none';\n",
              "\n",
              "      async function convertToInteractive(key) {\n",
              "        const element = document.querySelector('#df-b78076ed-f901-48ab-ae1f-48e7c20f26ce');\n",
              "        const dataTable =\n",
              "          await google.colab.kernel.invokeFunction('convertToInteractive',\n",
              "                                                    [key], {});\n",
              "        if (!dataTable) return;\n",
              "\n",
              "        const docLinkHtml = 'Like what you see? Visit the ' +\n",
              "          '<a target=\"_blank\" href=https://colab.research.google.com/notebooks/data_table.ipynb>data table notebook</a>'\n",
              "          + ' to learn more about interactive tables.';\n",
              "        element.innerHTML = '';\n",
              "        dataTable['output_type'] = 'display_data';\n",
              "        await google.colab.output.renderOutput(dataTable, element);\n",
              "        const docLink = document.createElement('div');\n",
              "        docLink.innerHTML = docLinkHtml;\n",
              "        element.appendChild(docLink);\n",
              "      }\n",
              "    </script>\n",
              "  </div>\n",
              "\n",
              "\n",
              "    <div id=\"df-aab9dbe4-ee1f-44c9-ae57-3267a90ecbd6\">\n",
              "      <button class=\"colab-df-quickchart\" onclick=\"quickchart('df-aab9dbe4-ee1f-44c9-ae57-3267a90ecbd6')\"\n",
              "                title=\"Suggest charts\"\n",
              "                style=\"display:none;\">\n",
              "\n",
              "<svg xmlns=\"http://www.w3.org/2000/svg\" height=\"24px\"viewBox=\"0 0 24 24\"\n",
              "     width=\"24px\">\n",
              "    <g>\n",
              "        <path d=\"M19 3H5c-1.1 0-2 .9-2 2v14c0 1.1.9 2 2 2h14c1.1 0 2-.9 2-2V5c0-1.1-.9-2-2-2zM9 17H7v-7h2v7zm4 0h-2V7h2v10zm4 0h-2v-4h2v4z\"/>\n",
              "    </g>\n",
              "</svg>\n",
              "      </button>\n",
              "\n",
              "<style>\n",
              "  .colab-df-quickchart {\n",
              "      --bg-color: #E8F0FE;\n",
              "      --fill-color: #1967D2;\n",
              "      --hover-bg-color: #E2EBFA;\n",
              "      --hover-fill-color: #174EA6;\n",
              "      --disabled-fill-color: #AAA;\n",
              "      --disabled-bg-color: #DDD;\n",
              "  }\n",
              "\n",
              "  [theme=dark] .colab-df-quickchart {\n",
              "      --bg-color: #3B4455;\n",
              "      --fill-color: #D2E3FC;\n",
              "      --hover-bg-color: #434B5C;\n",
              "      --hover-fill-color: #FFFFFF;\n",
              "      --disabled-bg-color: #3B4455;\n",
              "      --disabled-fill-color: #666;\n",
              "  }\n",
              "\n",
              "  .colab-df-quickchart {\n",
              "    background-color: var(--bg-color);\n",
              "    border: none;\n",
              "    border-radius: 50%;\n",
              "    cursor: pointer;\n",
              "    display: none;\n",
              "    fill: var(--fill-color);\n",
              "    height: 32px;\n",
              "    padding: 0;\n",
              "    width: 32px;\n",
              "  }\n",
              "\n",
              "  .colab-df-quickchart:hover {\n",
              "    background-color: var(--hover-bg-color);\n",
              "    box-shadow: 0 1px 2px rgba(60, 64, 67, 0.3), 0 1px 3px 1px rgba(60, 64, 67, 0.15);\n",
              "    fill: var(--button-hover-fill-color);\n",
              "  }\n",
              "\n",
              "  .colab-df-quickchart-complete:disabled,\n",
              "  .colab-df-quickchart-complete:disabled:hover {\n",
              "    background-color: var(--disabled-bg-color);\n",
              "    fill: var(--disabled-fill-color);\n",
              "    box-shadow: none;\n",
              "  }\n",
              "\n",
              "  .colab-df-spinner {\n",
              "    border: 2px solid var(--fill-color);\n",
              "    border-color: transparent;\n",
              "    border-bottom-color: var(--fill-color);\n",
              "    animation:\n",
              "      spin 1s steps(1) infinite;\n",
              "  }\n",
              "\n",
              "  @keyframes spin {\n",
              "    0% {\n",
              "      border-color: transparent;\n",
              "      border-bottom-color: var(--fill-color);\n",
              "      border-left-color: var(--fill-color);\n",
              "    }\n",
              "    20% {\n",
              "      border-color: transparent;\n",
              "      border-left-color: var(--fill-color);\n",
              "      border-top-color: var(--fill-color);\n",
              "    }\n",
              "    30% {\n",
              "      border-color: transparent;\n",
              "      border-left-color: var(--fill-color);\n",
              "      border-top-color: var(--fill-color);\n",
              "      border-right-color: var(--fill-color);\n",
              "    }\n",
              "    40% {\n",
              "      border-color: transparent;\n",
              "      border-right-color: var(--fill-color);\n",
              "      border-top-color: var(--fill-color);\n",
              "    }\n",
              "    60% {\n",
              "      border-color: transparent;\n",
              "      border-right-color: var(--fill-color);\n",
              "    }\n",
              "    80% {\n",
              "      border-color: transparent;\n",
              "      border-right-color: var(--fill-color);\n",
              "      border-bottom-color: var(--fill-color);\n",
              "    }\n",
              "    90% {\n",
              "      border-color: transparent;\n",
              "      border-bottom-color: var(--fill-color);\n",
              "    }\n",
              "  }\n",
              "</style>\n",
              "\n",
              "      <script>\n",
              "        async function quickchart(key) {\n",
              "          const quickchartButtonEl =\n",
              "            document.querySelector('#' + key + ' button');\n",
              "          quickchartButtonEl.disabled = true;  // To prevent multiple clicks.\n",
              "          quickchartButtonEl.classList.add('colab-df-spinner');\n",
              "          try {\n",
              "            const charts = await google.colab.kernel.invokeFunction(\n",
              "                'suggestCharts', [key], {});\n",
              "          } catch (error) {\n",
              "            console.error('Error during call to suggestCharts:', error);\n",
              "          }\n",
              "          quickchartButtonEl.classList.remove('colab-df-spinner');\n",
              "          quickchartButtonEl.classList.add('colab-df-quickchart-complete');\n",
              "        }\n",
              "        (() => {\n",
              "          let quickchartButtonEl =\n",
              "            document.querySelector('#df-aab9dbe4-ee1f-44c9-ae57-3267a90ecbd6 button');\n",
              "          quickchartButtonEl.style.display =\n",
              "            google.colab.kernel.accessAllowed ? 'block' : 'none';\n",
              "        })();\n",
              "      </script>\n",
              "    </div>\n",
              "\n",
              "    </div>\n",
              "  </div>\n"
            ],
            "application/vnd.google.colaboratory.intrinsic+json": {
              "type": "dataframe",
              "summary": "{\n  \"name\": \"display(df\",\n  \"rows\": 5,\n  \"fields\": [\n    {\n      \"column\": \"title\",\n      \"properties\": {\n        \"dtype\": \"string\",\n        \"num_unique_values\": 5,\n        \"samples\": [\n          \"U.S. military to accept transgender recruits on Monday: Pentagon\",\n          \"Trump wants Postal Service to charge 'much more' for Amazon shipments\",\n          \"Senior U.S. Republican senator: 'Let Mr. Mueller do his job'\"\n        ],\n        \"semantic_type\": \"\",\n        \"description\": \"\"\n      }\n    },\n    {\n      \"column\": \"text\",\n      \"properties\": {\n        \"dtype\": \"string\",\n        \"num_unique_values\": 5,\n        \"samples\": [\n          \"WASHINGTON (Reuters) - Transgender people will be allowed for the first time to enlist in the U.S. military starting on Monday as ordered by federal courts, the Pentagon said on Friday, after President Donald Trump\\u2019s administration decided not to appeal rulings that blocked his transgender ban. Two federal appeals courts, one in Washington and one in Virginia, last week rejected the administration\\u2019s request to put on hold orders by lower court judges requiring the military to begin accepting transgender recruits on Jan. 1. A Justice Department official said the administration will not challenge those rulings. \\u201cThe Department of Defense has announced that it will be releasing an independent study of these issues in the coming weeks. So rather than litigate this interim appeal before that occurs, the administration has decided to wait for DOD\\u2019s study and will continue to defend the president\\u2019s lawful authority in District Court in the meantime,\\u201d the official said, speaking on condition of anonymity. In September, the Pentagon said it had created a panel of senior officials to study how to implement a directive by Trump to prohibit transgender individuals from serving. The Defense Department has until Feb. 21 to submit a plan to Trump. Lawyers representing currently-serving transgender service members and aspiring recruits said they had expected the administration to appeal the rulings to the conservative-majority Supreme Court, but were hoping that would not happen. Pentagon spokeswoman Heather Babb said in a statement: \\u201cAs mandated by court order, the Department of Defense is prepared to begin accessing transgender applicants for military service Jan. 1. All applicants must meet all accession standards.\\u201d Jennifer Levi, a lawyer with gay, lesbian and transgender advocacy group GLAD, called the decision not to appeal \\u201cgreat news.\\u201d \\u201cI\\u2019m hoping it means the government has come to see that there is no way to justify a ban and that it\\u2019s not good for the military or our country,\\u201d Levi said. Both GLAD and the American Civil Liberties Union represent plaintiffs in the lawsuits filed against the administration. In a move that appealed to his hard-line conservative supporters, Trump announced in July that he would prohibit transgender people from serving in the military, reversing Democratic President Barack Obama\\u2019s policy of accepting them. Trump said on Twitter at the time that the military \\u201ccannot be burdened with the tremendous medical costs and disruption that transgender in the military would entail.\\u201d Four federal judges - in Baltimore, Washington, D.C., Seattle and Riverside, California - have issued rulings blocking Trump\\u2019s ban while legal challenges to the Republican president\\u2019s policy proceed. The judges said the ban would likely violate the right under the U.S. Constitution to equal protection under the law. The Pentagon on Dec. 8 issued guidelines to recruitment personnel in order to enlist transgender applicants by Jan. 1. The memo outlined medical requirements and specified how the applicants\\u2019 sex would be identified and even which undergarments they would wear. The Trump administration previously said in legal papers that the armed forces were not prepared to train thousands of personnel on the medical standards needed to process transgender applicants and might have to accept \\u201csome individuals who are not medically fit for service.\\u201d The Obama administration had set a deadline of July 1, 2017, to begin accepting transgender recruits. But Trump\\u2019s defense secretary, James Mattis, postponed that date to Jan. 1, 2018, which the president\\u2019s ban then put off indefinitely. Trump has taken other steps aimed at rolling back transgender rights. In October, his administration said a federal law banning gender-based workplace discrimination does not protect transgender employees, reversing another Obama-era position. In February, Trump rescinded guidance issued by the Obama administration saying that public schools should allow transgender students to use the restroom that corresponds to their gender identity. \",\n          \"SEATTLE/WASHINGTON (Reuters) - President Donald Trump called on the U.S. Postal Service on Friday to charge \\u201cmuch more\\u201d to ship packages for Amazon (AMZN.O), picking another fight with an online retail giant he has criticized in the past.     \\u201cWhy is the United States Post Office, which is losing many billions of dollars a year, while charging Amazon and others so little to deliver their packages, making Amazon richer and the Post Office dumber and poorer? Should be charging MUCH MORE!\\u201d Trump wrote on Twitter.  The president\\u2019s tweet drew fresh attention to the fragile finances of the Postal Service at a time when tens of millions of parcels have just been shipped all over the country for the holiday season.  The U.S. Postal Service, which runs at a big loss, is an independent agency within the federal government and does not receive tax dollars for operating expenses, according to its website.  Package delivery has become an increasingly important part of its business as the Internet has led to a sharp decline in the amount of first-class letters. The president does not determine postal rates. They are set by the Postal Regulatory Commission, an independent government agency with commissioners selected by the president from both political parties. That panel raised prices on packages by almost 2 percent in November.  Amazon was founded by Jeff Bezos, who remains the chief executive officer of the retail company and is the richest person in the world, according to Bloomberg News. Bezos also owns The Washington Post, a newspaper Trump has repeatedly railed against in his criticisms of the news media. In tweets over the past year, Trump has said the \\u201cAmazon Washington Post\\u201d fabricated stories. He has said Amazon does not pay sales tax, which is not true, and so hurts other retailers, part of a pattern by the former businessman and reality television host of periodically turning his ire on big American companies since he took office in January. Daniel Ives, a research analyst at GBH Insights, said Trump\\u2019s comment could be taken as a warning to the retail giant. However, he said he was not concerned for Amazon. \\u201cWe do not see any price hikes in the future. However, that is a risk that Amazon is clearly aware of and (it) is building out its distribution (system) aggressively,\\u201d he said. Amazon has shown interest in the past in shifting into its own delivery service, including testing drones for deliveries. In 2015, the company spent $11.5 billion on shipping, 46 percent of its total operating expenses that year.  Amazon shares were down 0.86 percent to $1,175.90 by early afternoon. Overall, U.S. stock prices were down slightly on Friday.  Satish Jindel, president of ShipMatrix Inc, which analyzes shipping data, disputed the idea that the Postal Service charges less than United Parcel Service Inc (UPS.N) and FedEx Corp (FDX.N), the other biggest players in the parcel delivery business in the United States. Many customers get lower rates from UPS and FedEx than they would get from the post office for comparable services, he said. The Postal Service delivers about 62 percent of Amazon packages, for about 3.5 to 4 million a day during the current peak year-end holiday shipping season, Jindel said. The Seattle-based company and the post office have an agreement in which mail carriers take Amazon packages on the last leg of their journeys, from post offices to customers\\u2019 doorsteps. Amazon\\u2019s No. 2 carrier is UPS, at 21 percent, and FedEx is third, with 8 percent or so, according to Jindel. Trump\\u2019s comment tapped into a debate over whether Postal Service pricing has kept pace with the rise of e-commerce, which has flooded the mail with small packages.Private companies like UPS have long claimed the current system unfairly undercuts their business. Steve Gaut, a spokesman for UPS, noted that the company values its \\u201cproductive relationship\\u201d with the postal service, but that it has filed with the Postal Regulatory Commission its concerns about the postal service\\u2019s methods for covering costs. Representatives for Amazon, the White House, the U.S. Postal Service and FedEx declined comment or were not immediately available for comment on Trump\\u2019s tweet. According to its annual report, the Postal Service lost $2.74 billion this year, and its deficit has ballooned to $61.86 billion.  While the Postal Service\\u2019s revenue for first class mail, marketing mail and periodicals is flat or declining, revenue from package delivery is up 44 percent since 2014 to $19.5 billion in the fiscal year ended Sept. 30, 2017. But it also lost about $2 billion in revenue when a temporary surcharge expired in April 2016. According to a Government Accountability Office report in February, the service is facing growing personnel expenses, particularly $73.4 billion in unfunded pension and benefits liabilities. The Postal Service has not announced any plans to cut costs. By law, the Postal Service has to set prices for package delivery to cover the costs attributable to that service. But the postal service allocates only 5.5 percent of its total costs to its business of shipping packages even though that line of business is 28 percent of its total revenue. \",\n          \"WASHINGTON (Reuters) - The special counsel investigation of links between Russia and President Trump\\u2019s 2016 election campaign should continue without interference in 2018, despite calls from some Trump administration allies and Republican lawmakers to shut it down, a prominent Republican senator said on Sunday. Lindsey Graham, who serves on the Senate armed forces and judiciary committees, said Department of Justice Special Counsel Robert Mueller needs to carry on with his Russia investigation without political interference. \\u201cThis investigation will go forward. It will be an investigation conducted without political influence,\\u201d Graham said on CBS\\u2019s Face the Nation news program. \\u201cAnd we all need to let Mr. Mueller do his job. I think he\\u2019s the right guy at the right time.\\u201d  The question of how Russia may have interfered in the election, and how Trump\\u2019s campaign may have had links with or co-ordinated any such effort, has loomed over the White House since Trump took office in January. It shows no sign of receding as Trump prepares for his second year in power, despite intensified rhetoric from some Trump allies in recent weeks accusing Mueller\\u2019s team of bias against the Republican president. Trump himself seemed to undercut his supporters in an interview last week with the New York Times in which he said he expected Mueller was \\u201cgoing to be fair.\\u201d    Russia\\u2019s role in the election and the question of possible links to the Trump campaign are the focus of multiple inquiries in Washington. Three committees of the Senate and the House of Representatives are investigating, as well as Mueller, whose team in May took over an earlier probe launched by the U.S. Federal Bureau of Investigation (FBI). Several members of the Trump campaign and administration have been convicted or indicted in the investigation.  Trump and his allies deny any collusion with Russia during the campaign, and the Kremlin has denied meddling in the election. Graham said he still wants an examination of the FBI\\u2019s use of a dossier on links between Trump and Russia that was compiled by a former British spy, Christopher Steele, which prompted Trump allies and some Republicans to question Mueller\\u2019s inquiry.   On Saturday, the New York Times reported that it was not that dossier that triggered an early FBI probe, but a tip from former Trump campaign foreign policy adviser George Papadopoulos to an Australian diplomat that Russia had damaging information about former Trump rival Hillary Clinton.  \\u201cI want somebody to look at the way the Department of Justice used this dossier. It bothers me greatly the way they used it, and I want somebody to look at it,\\u201d Graham said. But he said the Russia investigation must continue. \\u201cAs a matter of fact, it would hurt us if we ignored it,\\u201d he said. \"\n        ],\n        \"semantic_type\": \"\",\n        \"description\": \"\"\n      }\n    },\n    {\n      \"column\": \"subject\",\n      \"properties\": {\n        \"dtype\": \"category\",\n        \"num_unique_values\": 1,\n        \"samples\": [\n          \"politicsNews\"\n        ],\n        \"semantic_type\": \"\",\n        \"description\": \"\"\n      }\n    },\n    {\n      \"column\": \"date\",\n      \"properties\": {\n        \"dtype\": \"object\",\n        \"num_unique_values\": 3,\n        \"samples\": [\n          \"December 31, 2017 \"\n        ],\n        \"semantic_type\": \"\",\n        \"description\": \"\"\n      }\n    },\n    {\n      \"column\": \"label\",\n      \"properties\": {\n        \"dtype\": \"category\",\n        \"num_unique_values\": 1,\n        \"samples\": [\n          \"real\"\n        ],\n        \"semantic_type\": \"\",\n        \"description\": \"\"\n      }\n    }\n  ]\n}"
            }
          },
          "metadata": {}
        },
        {
          "output_type": "stream",
          "name": "stdout",
          "text": [
            "<class 'pandas.core.frame.DataFrame'>\n",
            "RangeIndex: 44898 entries, 0 to 44897\n",
            "Data columns (total 5 columns):\n",
            " #   Column   Non-Null Count  Dtype \n",
            "---  ------   --------------  ----- \n",
            " 0   title    44898 non-null  object\n",
            " 1   text     44898 non-null  object\n",
            " 2   subject  44898 non-null  object\n",
            " 3   date     44898 non-null  object\n",
            " 4   label    44898 non-null  object\n",
            "dtypes: object(5)\n",
            "memory usage: 1.7+ MB\n"
          ]
        },
        {
          "output_type": "display_data",
          "data": {
            "text/plain": [
              "None"
            ]
          },
          "metadata": {}
        }
      ]
    },
    {
      "cell_type": "markdown",
      "metadata": {
        "id": "0d57a662"
      },
      "source": [
        "## Download and load the dataset retry 2\n",
        "\n",
        "### Subtask:\n",
        "Download and load the Fake News Dataset from Kaggle and load it into a pandas DataFrame.\n"
      ]
    },
    {
      "cell_type": "markdown",
      "metadata": {
        "id": "627032f4"
      },
      "source": [
        "**Reasoning**:\n",
        "Attempt to load the 'train.csv' file into a pandas DataFrame, display the head, and display the info. This is a retry of a previous failed step, assuming the file is now available.\n",
        "\n"
      ]
    },
    {
      "cell_type": "code",
      "metadata": {
        "colab": {
          "base_uri": "https://localhost:8080/"
        },
        "id": "cf9d1a06",
        "outputId": "df04b05c-b0dc-46ef-8cba-79a4e97e3be7"
      },
      "source": [
        "import os\n",
        "\n",
        "# List files in the downloaded directory\n",
        "print(os.listdir(path))"
      ],
      "execution_count": 3,
      "outputs": [
        {
          "output_type": "stream",
          "name": "stdout",
          "text": [
            "['True.csv', 'Fake.csv']\n"
          ]
        }
      ]
    },
    {
      "cell_type": "markdown",
      "metadata": {
        "id": "281e5da8"
      },
      "source": [
        "## Preprocess the data\n",
        "\n",
        "### Subtask:\n",
        "Clean and preprocess the text data, including removing stop words, punctuation, and converting text to lowercase."
      ]
    },
    {
      "cell_type": "markdown",
      "metadata": {
        "id": "4599fbb1"
      },
      "source": [
        "**Reasoning**:\n",
        "Combine the 'title' and 'text' columns, handle missing values, convert text to lowercase, remove punctuation and stop words, and perform stemming or lemmatization."
      ]
    },
    {
      "cell_type": "code",
      "metadata": {
        "colab": {
          "base_uri": "https://localhost:8080/",
          "height": 275
        },
        "id": "84898cb4",
        "outputId": "d39a260d-f9bf-400e-83d0-4ba9d20dcc0a"
      },
      "source": [
        "import re\n",
        "import nltk\n",
        "from nltk.corpus import stopwords\n",
        "from nltk.stem import PorterStemmer\n",
        "\n",
        "nltk.download('stopwords')\n",
        "nltk.download('punkt')\n",
        "\n",
        "def preprocess_text(text):\n",
        "    # Handle potential non-string data\n",
        "    if not isinstance(text, str):\n",
        "        return \"\"\n",
        "    text = text.lower()\n",
        "    text = re.sub(r'[^a-zA-Z\\s]', '', text)\n",
        "    words = text.split()\n",
        "    words = [word for word in words if word not in stopwords.words('english')]\n",
        "    stemmer = PorterStemmer()\n",
        "    words = [stemmer.stem(word) for word in words]\n",
        "    return ' '.join(words)\n",
        "\n",
        "# Sample a smaller subset of the data\n",
        "df_subset = pd.concat([df[df['label'] == 'real'].sample(1000, random_state=42),\n",
        "                       df[df['label'] == 'fake'].sample(1000, random_state=42)])\n",
        "\n",
        "df_subset['cleaned_text'] = df_subset['title'] + ' ' + df_subset['text']\n",
        "df_subset['cleaned_text'] = df_subset['cleaned_text'].apply(preprocess_text)\n",
        "\n",
        "display(df_subset[['cleaned_text', 'label']].head())"
      ],
      "execution_count": 6,
      "outputs": [
        {
          "output_type": "stream",
          "name": "stderr",
          "text": [
            "[nltk_data] Downloading package stopwords to /root/nltk_data...\n",
            "[nltk_data]   Package stopwords is already up-to-date!\n",
            "[nltk_data] Downloading package punkt to /root/nltk_data...\n",
            "[nltk_data]   Package punkt is already up-to-date!\n"
          ]
        },
        {
          "output_type": "display_data",
          "data": {
            "text/plain": [
              "                                            cleaned_text label\n",
              "18137  europ right watchdog say turkey emerg law go f...  real\n",
              "3277   exclus trump target illeg immigr given repriev...  real\n",
              "2876   g summit trump pledg million aid four countri ...  real\n",
              "5160   exchristi associ lose bid new trial bridgeg ca...  real\n",
              "10843  young black open berni sander white hous bid o...  real"
            ],
            "text/html": [
              "\n",
              "  <div id=\"df-c72e2d2b-ac48-41f5-bd89-bd2be8813e51\" class=\"colab-df-container\">\n",
              "    <div>\n",
              "<style scoped>\n",
              "    .dataframe tbody tr th:only-of-type {\n",
              "        vertical-align: middle;\n",
              "    }\n",
              "\n",
              "    .dataframe tbody tr th {\n",
              "        vertical-align: top;\n",
              "    }\n",
              "\n",
              "    .dataframe thead th {\n",
              "        text-align: right;\n",
              "    }\n",
              "</style>\n",
              "<table border=\"1\" class=\"dataframe\">\n",
              "  <thead>\n",
              "    <tr style=\"text-align: right;\">\n",
              "      <th></th>\n",
              "      <th>cleaned_text</th>\n",
              "      <th>label</th>\n",
              "    </tr>\n",
              "  </thead>\n",
              "  <tbody>\n",
              "    <tr>\n",
              "      <th>18137</th>\n",
              "      <td>europ right watchdog say turkey emerg law go f...</td>\n",
              "      <td>real</td>\n",
              "    </tr>\n",
              "    <tr>\n",
              "      <th>3277</th>\n",
              "      <td>exclus trump target illeg immigr given repriev...</td>\n",
              "      <td>real</td>\n",
              "    </tr>\n",
              "    <tr>\n",
              "      <th>2876</th>\n",
              "      <td>g summit trump pledg million aid four countri ...</td>\n",
              "      <td>real</td>\n",
              "    </tr>\n",
              "    <tr>\n",
              "      <th>5160</th>\n",
              "      <td>exchristi associ lose bid new trial bridgeg ca...</td>\n",
              "      <td>real</td>\n",
              "    </tr>\n",
              "    <tr>\n",
              "      <th>10843</th>\n",
              "      <td>young black open berni sander white hous bid o...</td>\n",
              "      <td>real</td>\n",
              "    </tr>\n",
              "  </tbody>\n",
              "</table>\n",
              "</div>\n",
              "    <div class=\"colab-df-buttons\">\n",
              "\n",
              "  <div class=\"colab-df-container\">\n",
              "    <button class=\"colab-df-convert\" onclick=\"convertToInteractive('df-c72e2d2b-ac48-41f5-bd89-bd2be8813e51')\"\n",
              "            title=\"Convert this dataframe to an interactive table.\"\n",
              "            style=\"display:none;\">\n",
              "\n",
              "  <svg xmlns=\"http://www.w3.org/2000/svg\" height=\"24px\" viewBox=\"0 -960 960 960\">\n",
              "    <path d=\"M120-120v-720h720v720H120Zm60-500h600v-160H180v160Zm220 220h160v-160H400v160Zm0 220h160v-160H400v160ZM180-400h160v-160H180v160Zm440 0h160v-160H620v160ZM180-180h160v-160H180v160Zm440 0h160v-160H620v160Z\"/>\n",
              "  </svg>\n",
              "    </button>\n",
              "\n",
              "  <style>\n",
              "    .colab-df-container {\n",
              "      display:flex;\n",
              "      gap: 12px;\n",
              "    }\n",
              "\n",
              "    .colab-df-convert {\n",
              "      background-color: #E8F0FE;\n",
              "      border: none;\n",
              "      border-radius: 50%;\n",
              "      cursor: pointer;\n",
              "      display: none;\n",
              "      fill: #1967D2;\n",
              "      height: 32px;\n",
              "      padding: 0 0 0 0;\n",
              "      width: 32px;\n",
              "    }\n",
              "\n",
              "    .colab-df-convert:hover {\n",
              "      background-color: #E2EBFA;\n",
              "      box-shadow: 0px 1px 2px rgba(60, 64, 67, 0.3), 0px 1px 3px 1px rgba(60, 64, 67, 0.15);\n",
              "      fill: #174EA6;\n",
              "    }\n",
              "\n",
              "    .colab-df-buttons div {\n",
              "      margin-bottom: 4px;\n",
              "    }\n",
              "\n",
              "    [theme=dark] .colab-df-convert {\n",
              "      background-color: #3B4455;\n",
              "      fill: #D2E3FC;\n",
              "    }\n",
              "\n",
              "    [theme=dark] .colab-df-convert:hover {\n",
              "      background-color: #434B5C;\n",
              "      box-shadow: 0px 1px 3px 1px rgba(0, 0, 0, 0.15);\n",
              "      filter: drop-shadow(0px 1px 2px rgba(0, 0, 0, 0.3));\n",
              "      fill: #FFFFFF;\n",
              "    }\n",
              "  </style>\n",
              "\n",
              "    <script>\n",
              "      const buttonEl =\n",
              "        document.querySelector('#df-c72e2d2b-ac48-41f5-bd89-bd2be8813e51 button.colab-df-convert');\n",
              "      buttonEl.style.display =\n",
              "        google.colab.kernel.accessAllowed ? 'block' : 'none';\n",
              "\n",
              "      async function convertToInteractive(key) {\n",
              "        const element = document.querySelector('#df-c72e2d2b-ac48-41f5-bd89-bd2be8813e51');\n",
              "        const dataTable =\n",
              "          await google.colab.kernel.invokeFunction('convertToInteractive',\n",
              "                                                    [key], {});\n",
              "        if (!dataTable) return;\n",
              "\n",
              "        const docLinkHtml = 'Like what you see? Visit the ' +\n",
              "          '<a target=\"_blank\" href=https://colab.research.google.com/notebooks/data_table.ipynb>data table notebook</a>'\n",
              "          + ' to learn more about interactive tables.';\n",
              "        element.innerHTML = '';\n",
              "        dataTable['output_type'] = 'display_data';\n",
              "        await google.colab.output.renderOutput(dataTable, element);\n",
              "        const docLink = document.createElement('div');\n",
              "        docLink.innerHTML = docLinkHtml;\n",
              "        element.appendChild(docLink);\n",
              "      }\n",
              "    </script>\n",
              "  </div>\n",
              "\n",
              "\n",
              "    <div id=\"df-5dcb6559-2e7d-4d48-bcca-db576c34a72a\">\n",
              "      <button class=\"colab-df-quickchart\" onclick=\"quickchart('df-5dcb6559-2e7d-4d48-bcca-db576c34a72a')\"\n",
              "                title=\"Suggest charts\"\n",
              "                style=\"display:none;\">\n",
              "\n",
              "<svg xmlns=\"http://www.w3.org/2000/svg\" height=\"24px\"viewBox=\"0 0 24 24\"\n",
              "     width=\"24px\">\n",
              "    <g>\n",
              "        <path d=\"M19 3H5c-1.1 0-2 .9-2 2v14c0 1.1.9 2 2 2h14c1.1 0 2-.9 2-2V5c0-1.1-.9-2-2-2zM9 17H7v-7h2v7zm4 0h-2V7h2v10zm4 0h-2v-4h2v4z\"/>\n",
              "    </g>\n",
              "</svg>\n",
              "      </button>\n",
              "\n",
              "<style>\n",
              "  .colab-df-quickchart {\n",
              "      --bg-color: #E8F0FE;\n",
              "      --fill-color: #1967D2;\n",
              "      --hover-bg-color: #E2EBFA;\n",
              "      --hover-fill-color: #174EA6;\n",
              "      --disabled-fill-color: #AAA;\n",
              "      --disabled-bg-color: #DDD;\n",
              "  }\n",
              "\n",
              "  [theme=dark] .colab-df-quickchart {\n",
              "      --bg-color: #3B4455;\n",
              "      --fill-color: #D2E3FC;\n",
              "      --hover-bg-color: #434B5C;\n",
              "      --hover-fill-color: #FFFFFF;\n",
              "      --disabled-bg-color: #3B4455;\n",
              "      --disabled-fill-color: #666;\n",
              "  }\n",
              "\n",
              "  .colab-df-quickchart {\n",
              "    background-color: var(--bg-color);\n",
              "    border: none;\n",
              "    border-radius: 50%;\n",
              "    cursor: pointer;\n",
              "    display: none;\n",
              "    fill: var(--fill-color);\n",
              "    height: 32px;\n",
              "    padding: 0;\n",
              "    width: 32px;\n",
              "  }\n",
              "\n",
              "  .colab-df-quickchart:hover {\n",
              "    background-color: var(--hover-bg-color);\n",
              "    box-shadow: 0 1px 2px rgba(60, 64, 67, 0.3), 0 1px 3px 1px rgba(60, 64, 67, 0.15);\n",
              "    fill: var(--button-hover-fill-color);\n",
              "  }\n",
              "\n",
              "  .colab-df-quickchart-complete:disabled,\n",
              "  .colab-df-quickchart-complete:disabled:hover {\n",
              "    background-color: var(--disabled-bg-color);\n",
              "    fill: var(--disabled-fill-color);\n",
              "    box-shadow: none;\n",
              "  }\n",
              "\n",
              "  .colab-df-spinner {\n",
              "    border: 2px solid var(--fill-color);\n",
              "    border-color: transparent;\n",
              "    border-bottom-color: var(--fill-color);\n",
              "    animation:\n",
              "      spin 1s steps(1) infinite;\n",
              "  }\n",
              "\n",
              "  @keyframes spin {\n",
              "    0% {\n",
              "      border-color: transparent;\n",
              "      border-bottom-color: var(--fill-color);\n",
              "      border-left-color: var(--fill-color);\n",
              "    }\n",
              "    20% {\n",
              "      border-color: transparent;\n",
              "      border-left-color: var(--fill-color);\n",
              "      border-top-color: var(--fill-color);\n",
              "    }\n",
              "    30% {\n",
              "      border-color: transparent;\n",
              "      border-left-color: var(--fill-color);\n",
              "      border-top-color: var(--fill-color);\n",
              "      border-right-color: var(--fill-color);\n",
              "    }\n",
              "    40% {\n",
              "      border-color: transparent;\n",
              "      border-right-color: var(--fill-color);\n",
              "      border-top-color: var(--fill-color);\n",
              "    }\n",
              "    60% {\n",
              "      border-color: transparent;\n",
              "      border-right-color: var(--fill-color);\n",
              "    }\n",
              "    80% {\n",
              "      border-color: transparent;\n",
              "      border-right-color: var(--fill-color);\n",
              "      border-bottom-color: var(--fill-color);\n",
              "    }\n",
              "    90% {\n",
              "      border-color: transparent;\n",
              "      border-bottom-color: var(--fill-color);\n",
              "    }\n",
              "  }\n",
              "</style>\n",
              "\n",
              "      <script>\n",
              "        async function quickchart(key) {\n",
              "          const quickchartButtonEl =\n",
              "            document.querySelector('#' + key + ' button');\n",
              "          quickchartButtonEl.disabled = true;  // To prevent multiple clicks.\n",
              "          quickchartButtonEl.classList.add('colab-df-spinner');\n",
              "          try {\n",
              "            const charts = await google.colab.kernel.invokeFunction(\n",
              "                'suggestCharts', [key], {});\n",
              "          } catch (error) {\n",
              "            console.error('Error during call to suggestCharts:', error);\n",
              "          }\n",
              "          quickchartButtonEl.classList.remove('colab-df-spinner');\n",
              "          quickchartButtonEl.classList.add('colab-df-quickchart-complete');\n",
              "        }\n",
              "        (() => {\n",
              "          let quickchartButtonEl =\n",
              "            document.querySelector('#df-5dcb6559-2e7d-4d48-bcca-db576c34a72a button');\n",
              "          quickchartButtonEl.style.display =\n",
              "            google.colab.kernel.accessAllowed ? 'block' : 'none';\n",
              "        })();\n",
              "      </script>\n",
              "    </div>\n",
              "\n",
              "    </div>\n",
              "  </div>\n"
            ],
            "application/vnd.google.colaboratory.intrinsic+json": {
              "type": "dataframe",
              "summary": "{\n  \"name\": \"display(df_subset[['cleaned_text', 'label']]\",\n  \"rows\": 5,\n  \"fields\": [\n    {\n      \"column\": \"cleaned_text\",\n      \"properties\": {\n        \"dtype\": \"string\",\n        \"num_unique_values\": 5,\n        \"samples\": [\n          \"exclus trump target illeg immigr given repriev deport obama reuter septemb gilberto velasquez yearold hous painter el salvador receiv lifechang news us govern decid shelv deport action move part polici chang initi thenpresid barack obama pull back deport immigr form deep tie unit state govern consid threat public safeti instead administr would priorit illeg immigr commit seriou crime last month thing chang painter live unit state illeg sinc usborn child receiv news govern want put deport case back court calendar cite anoth shift prioriti time presid donald trump trump administr move reopen case hundr illeg immigr like velasquez given repriev deport accord govern data court document review reuter interview immigr lawyer trump signal januari plan dramat widen net illeg immigr target deport administr public effort reopen immigr case repres one first concret exampl crackdown promis trump like stir fear among ten thousand illeg immigr thought safe deport case reopen obama administr well gener immigr commit seriou crime immigr attorney say trump administr sharpli increas number case ask court reopen target appear includ least peopl commit crime sinc case close march may prosecutor move reopen case accord reuter analysi data execut offic immigr review eoir obama administr file similar motion period jennif elzea spokeswoman us immigr custom enforc confirm agenc file motion immigr court reopen case illeg immigr sinc arrest convict crime possibl tell eoir data mani case trump administr seek reopen involv immigr commit crime case close attorney interview reuter say inde case reopen immigr arrest seriou crime also see case involv peopl havent commit crime cite minor violat like traffic ticket sea chang said attorney david leopold former presid american immigr lawyer associ someon someth case close show person threat would reopen open case want deport peopl elzea said agenc review case see basi prosecutori discret still appropri obama announc shift toward target illeg immigr commit seriou crime prosecutor embrac new discret close case januari trump inaugur jan govern shelv case accord reuter data analysi socal administr closur extend full legal statu whose case close remov threat immin deport trump sign execut order overturn obamaera polici jan new guidelin crimin remain highest prioriti deport anyon countri illeg potenti target case review reuter administr explicitli cite trump execut order separ motion reason put immigr back court docket link excerpt document tmsnrtrssiabi sinc immigr case arent gener public reuter abl review case made avail attorney reopen case examin reuter involv immigr accord attorney troubl law sinc case close two case involv seriou crime commit case close domest violenc drive influenc least six case involv minor infract includ speed unpaid traffic ticket drive without valid licens accord attorney velasquez case exampl cite drive without licens tennesse illeg immigr cannot get licens said respect law dedic work said dont understand happen motion reopen close case file state highest number california florida virginia accord reuter review eoir data bulk exampl review reuter two dozen motion sent span coupl day new orlean ice offic salli joyner immigr attorney memphi tennesse said one central american client cross border children allow stay unit state govern file motion close case decemb sinc cross border woman arrest troubl law enforc said joyner ask client name use pend legal action nevertheless march ice file twopag motion reopen case woman children joyner queri ice offici said agenc notifi client crimin histori el salvador accord document seen reuter woman arrest sell pumpkin seed unauthor street vendor govern document show us author knew arrest case close dana mark presid nation associ immigr judg said revisit previous close matter add record backlog pend immigr case go back review decis alreadi made clearli gener work said judici doover\",\n          \"young black open berni sander white hous bid orangeburg sc reuter democrat hope berni sander chanc draw africanamerican voter away rival hillari clinton south carolina presidenti nomin contest feb best opportun among young african american support former secretari state clinton margin nationwid among young black year old margin shrink percent clinton versu percent sander accord recent reutersipso poll african american overwhelmingli back democrat opinion poll runup nov presidenti elect show younger black apt reject establish candid seem less inclin parent reward clinton outreach husband former presid bill clinton drawn sander outspoken view reduc incom inequ crack wall street cut cost colleg reutersipso poll last year show percent black year old thought countri wrong track compar percent black least year old sander us senat vermont describ democrat socialist trend could help chip away clinton firewal minor voter southern state strong show especi among young earli democrat parti contest iowa new hampshir percent white votingag popul south carolina one next stop primari trail percent white percent black us censu bureau say orangeburg south carolina student histor black school south carolina state univers claflin univers appear split week two candid support student prais clinton work behalf women minor year washington experi mani said also intrigu sander plan rais tax wealthier peopl wall street firm provid univers healthcar offer free public colleg tuition histori import time still need plan said travi pasco secondyear graduat student claflin said sander plan reduc inequ tax wealthi expand medicar cover american reson black commun think would help black commun least privileg said eight student interview undecid voter eight student whose mind made four student said plan vote clinton ethel hillman freshman serv militari go colleg social work said mani fellow student vote clinton describ sander aloof he social connect would say black commun said care distanc south carolina state student center hous bowl center dine area quot wall promin black leader includ presid barack obama first ladi michel obama singer michael jackson educ booker washington one wall memori student kill orangeburg massacr protest shot state highway patrol offic campu amid tension racial discrimin sander minor voter linger weak struggl earli campaign appeal black voter protest black live matter movement interrupt speech view touch black issu counter percept sander tout colleg civil right activ public event rapper killer mike wednesday met black civil right leader al sharpton harlem like clinton sander sent surrog histor black colleg writer activist cornel west spoke south carolina state sander behalf actress angela bassett spoke support clinton sander fight inroad black elector clinton find comfort zone campaign said believ road nomin would becom smoother move south place husband former presid tie minor leader clinton pick endors congression black caucu polit action committe thursday stake mount south carolina repres jim clyburn one state influenti democrat said consid endors candid endors hillari clinton primari race obama previous said would weigh year waver echo view sever student campu south carolina state im kind caught berni sander hillari said kelsi bryant sophomor educ major south carolina state said import woman presid worri sander old said meet sharpton sent posit signal outreach black cetri brook senior biolog major south carolina state said ultim littl bit trust clinton former first ladi meant famili said parent long support clinton uncl knew former presid version stori correct paragraph number student back clinton four instead three add polit action committe paragraph addit report chri kahn edit richard valdmani howard goller sap sponsor content independ creat reuter editori staff fund part sap otherwis role coverag\",\n          \"g summit trump pledg million aid four countri hamburg reuter us presid donald trump saturday promis million aid feed peopl left starv drought conflict somalia south sudan nigeria yemen trump pledg came work session g summit world leader hamburg provid godsend unit nation world food programm group execut director david beasley told reuter sidelin meet face worst humanitarian crisi sinc world war two said beasley republican former south carolina governor nomin trump head un agenc fight hunger worldwid new fund bring billion aid promis unit state fiscal year crise four countri unit nation estim million peopl need urgent food assist new assist unit state provid addit emerg food nutrit assist lifesav medic care improv sanit emerg shelter protect affect conflict usaid said statement rob jenkin act head usaid bureau democraci conflict humanitarian assist said fund million would go yemen million south sudan million nigeria almost million somalia conflict four countri made difficult reach commun need food note dire situat right said jenkin ad usaid also concern situat southern ethiopia situat southern ethiopia fortun rise dire situat four situat deterior might well catastroph without addit intervent said ad washington alreadi provid million year ethiopia need continu grow beasley said us fund third wfp estim requir year deal urgent food need four countri crisi well area wfp estim million peopl around world need food assist year million last year worstaffect zone stem war manmad crise beasley said estim didnt receiv fund need immedi children would die next four month said trump announc came administr propos sharp cut fund us state depart humanitarian mission part america first polici beasley said agenc work hard white hous us govern secur fund trump would insist countri contribut well wfp spokesman said germani recent pledg addit million euro food relief\"\n        ],\n        \"semantic_type\": \"\",\n        \"description\": \"\"\n      }\n    },\n    {\n      \"column\": \"label\",\n      \"properties\": {\n        \"dtype\": \"category\",\n        \"num_unique_values\": 1,\n        \"samples\": [\n          \"real\"\n        ],\n        \"semantic_type\": \"\",\n        \"description\": \"\"\n      }\n    }\n  ]\n}"
            }
          },
          "metadata": {}
        }
      ]
    },
    {
      "cell_type": "markdown",
      "metadata": {
        "id": "19d2b62a"
      },
      "source": [
        "## Feature Extraction\n",
        "\n",
        "### Subtask:\n",
        "Extract features from the cleaned text data using TF-IDF."
      ]
    },
    {
      "cell_type": "markdown",
      "metadata": {
        "id": "f0297d67"
      },
      "source": [
        "**Reasoning**:\n",
        "Use TF-IDF to convert the text data into numerical features that can be used for training a classification model."
      ]
    },
    {
      "cell_type": "code",
      "metadata": {
        "colab": {
          "base_uri": "https://localhost:8080/"
        },
        "id": "169fc73b",
        "outputId": "b2787a76-4c8b-4f3d-acc8-bff87459f67f"
      },
      "source": [
        "from sklearn.feature_extraction.text import TfidfVectorizer\n",
        "\n",
        "# Initialize TfidfVectorizer\n",
        "# You can adjust parameters like max_features, min_df, max_df, etc.\n",
        "tfidf_vectorizer = TfidfVectorizer(max_features=5000)\n",
        "\n",
        "# Fit and transform the cleaned text data\n",
        "tfidf_features = tfidf_vectorizer.fit_transform(df_subset['cleaned_text'])\n",
        "\n",
        "# Display the shape of the resulting feature matrix\n",
        "print(\"Shape of TF-IDF features:\", tfidf_features.shape)"
      ],
      "execution_count": 7,
      "outputs": [
        {
          "output_type": "stream",
          "name": "stdout",
          "text": [
            "Shape of TF-IDF features: (2000, 5000)\n"
          ]
        }
      ]
    },
    {
      "cell_type": "markdown",
      "metadata": {
        "id": "ee63e419"
      },
      "source": [
        "## Model Training\n",
        "\n",
        "### Subtask:\n",
        "Train a classification model on the extracted features."
      ]
    },
    {
      "cell_type": "markdown",
      "metadata": {
        "id": "ca807673"
      },
      "source": [
        "**Reasoning**:\n",
        "Split the data into training and testing sets, train a classification model (e.g., Logistic Regression), and evaluate its performance."
      ]
    },
    {
      "cell_type": "code",
      "metadata": {
        "colab": {
          "base_uri": "https://localhost:8080/"
        },
        "id": "05e1ac73",
        "outputId": "c5397ca8-a676-46ba-8b88-e4d67a4476e6"
      },
      "source": [
        "from sklearn.model_selection import train_test_split\n",
        "from sklearn.linear_model import LogisticRegression\n",
        "from sklearn.metrics import accuracy_score, classification_report\n",
        "\n",
        "# Split data into training and testing sets\n",
        "X_train, X_test, y_train, y_test = train_test_split(tfidf_features, df_subset['label'], test_size=0.2, random_state=42)\n",
        "\n",
        "# Initialize and train a Logistic Regression model\n",
        "model = LogisticRegression()\n",
        "model.fit(X_train, y_train)\n",
        "\n",
        "# Predict on the test set\n",
        "y_pred = model.predict(X_test)\n",
        "\n",
        "# Evaluate the model\n",
        "accuracy = accuracy_score(y_test, y_pred)\n",
        "report = classification_report(y_test, y_pred)\n",
        "\n",
        "print(\"Accuracy:\", accuracy)\n",
        "print(\"Classification Report:\\n\", report)"
      ],
      "execution_count": 8,
      "outputs": [
        {
          "output_type": "stream",
          "name": "stdout",
          "text": [
            "Accuracy: 0.955\n",
            "Classification Report:\n",
            "               precision    recall  f1-score   support\n",
            "\n",
            "        fake       0.94      0.98      0.96       201\n",
            "        real       0.97      0.93      0.95       199\n",
            "\n",
            "    accuracy                           0.95       400\n",
            "   macro avg       0.96      0.95      0.95       400\n",
            "weighted avg       0.96      0.95      0.95       400\n",
            "\n"
          ]
        }
      ]
    },
    {
      "cell_type": "markdown",
      "metadata": {
        "id": "6b9f7da4"
      },
      "source": [
        "# Task\n",
        "Analyze the \"Fake News Dataset (Kaggle)\" using NLP techniques (TF-IDF, BERT, or LSTM) to classify news articles as real or fake. Limit the analysis to 2000 papers. Provide visualizations of the data distribution and model performance."
      ]
    },
    {
      "cell_type": "markdown",
      "metadata": {
        "id": "2f134a79"
      },
      "source": [
        "## Visualize data distribution\n",
        "\n",
        "### Subtask:\n",
        "Create visualizations to show the distribution of real and fake news, and potentially the distribution of news subjects.\n"
      ]
    },
    {
      "cell_type": "markdown",
      "metadata": {
        "id": "38c7bfba"
      },
      "source": [
        "**Reasoning**:\n",
        "Create countplots to visualize the distribution of labels and subjects in the sampled dataframe.\n",
        "\n"
      ]
    },
    {
      "cell_type": "code",
      "metadata": {
        "colab": {
          "base_uri": "https://localhost:8080/",
          "height": 1000
        },
        "id": "1f80059f",
        "outputId": "38fe909c-0768-45ca-d022-9975f812ab7c"
      },
      "source": [
        "import matplotlib.pyplot as plt\n",
        "import seaborn as sns\n",
        "\n",
        "# Create a countplot of the 'label' column\n",
        "plt.figure(figsize=(6, 4))\n",
        "sns.countplot(data=df_subset, x='label')\n",
        "plt.title('Distribution of Real vs. Fake News (Sampled)')\n",
        "plt.xlabel('News Type')\n",
        "plt.ylabel('Count')\n",
        "plt.show()\n",
        "\n",
        "# Create a countplot of the 'subject' column\n",
        "plt.figure(figsize=(12, 6))\n",
        "sns.countplot(data=df_subset, x='subject')\n",
        "plt.title('Distribution of News Subjects (Sampled)')\n",
        "plt.xlabel('Subject')\n",
        "plt.ylabel('Count')\n",
        "plt.xticks(rotation=45, ha='right')\n",
        "plt.tight_layout()\n",
        "plt.show()"
      ],
      "execution_count": 9,
      "outputs": [
        {
          "output_type": "display_data",
          "data": {
            "text/plain": [
              "<Figure size 600x400 with 1 Axes>"
            ],
            "image/png": "[encoded data removed]"
          },
          "metadata": {}
        },
        {
          "output_type": "display_data",
          "data": {
            "text/plain": [
              "<Figure size 1200x600 with 1 Axes>"
            ],
            "image/png": "[encoded data removed]"
          },
          "metadata": {}
        }
      ]
    },
    {
      "cell_type": "markdown",
      "metadata": {
        "id": "6938b2bf"
      },
      "source": [
        "## Visualize model performance\n",
        "\n",
        "### Subtask:\n",
        "Create visualizations to represent the model's performance, such as a confusion matrix.\n"
      ]
    },
    {
      "cell_type": "markdown",
      "metadata": {
        "id": "cc0d5672"
      },
      "source": [
        "**Reasoning**:\n",
        "Generate and visualize the confusion matrix to evaluate the model's performance.\n",
        "\n"
      ]
    },
    {
      "cell_type": "code",
      "metadata": {
        "colab": {
          "base_uri": "https://localhost:8080/",
          "height": 564
        },
        "id": "591f6d23",
        "outputId": "4625f432-63b6-4e9d-f982-637c3d2680a6"
      },
      "source": [
        "from sklearn.metrics import confusion_matrix\n",
        "import seaborn as sns\n",
        "import matplotlib.pyplot as plt\n",
        "\n",
        "# Generate the confusion matrix\n",
        "cm = confusion_matrix(y_test, y_pred)\n",
        "\n",
        "# Create a heatmap of the confusion matrix\n",
        "plt.figure(figsize=(8, 6))\n",
        "sns.heatmap(cm, annot=True, fmt='d', cmap='Blues', xticklabels=['Fake', 'Real'], yticklabels=['Fake', 'Real'])\n",
        "plt.xlabel('Predicted')\n",
        "plt.ylabel('Actual')\n",
        "plt.title('Confusion Matrix')\n",
        "plt.show()"
      ],
      "execution_count": 10,
      "outputs": [
        {
          "output_type": "display_data",
          "data": {
            "text/plain": [
              "<Figure size 800x600 with 2 Axes>"
            ],
            "image/png": "[encoded data removed]"
          },
          "metadata": {}
        }
      ]
    },
    {
      "cell_type": "markdown",
      "metadata": {
        "id": "ca8ceaaf"
      },
      "source": [
        "## Summary:\n",
        "\n",
        "### Data Analysis Key Findings\n",
        "\n",
        "*   The sampled dataset contains a nearly equal distribution of real and fake news articles.\n",
        "*   The most frequent news subjects in the sampled dataset are 'politicsNews' and 'worldnews'.\n",
        "*   The confusion matrix visualization shows the number of true positive, true negative, false positive, and false negative predictions made by the model.\n",
        "\n",
        "### Insights or Next Steps\n",
        "\n",
        "*   The balanced distribution of real and fake news in the sample is beneficial for training and evaluating classification models.\n",
        "*   Further analysis could explore the performance of the model within each news subject category.\n"
      ]
    },
    {
      "cell_type": "markdown",
      "metadata": {
        "id": "1e198ec3"
      },
      "source": [
        "## Visualize model performance\n",
        "\n",
        "### Subtask:\n",
        "Create visualizations to represent the model's performance, such as a confusion matrix."
      ]
    },
    {
      "cell_type": "markdown",
      "metadata": {
        "id": "e3989151"
      },
      "source": [
        "**Reasoning**:\n",
        "Generate and visualize the confusion matrix to evaluate the model's performance."
      ]
    },
    {
      "cell_type": "code",
      "metadata": {
        "colab": {
          "base_uri": "https://localhost:8080/",
          "height": 564
        },
        "id": "0e1e96d0",
        "outputId": "7997fd7e-bd7e-49a7-8be3-c5a0dabb69a5"
      },
      "source": [
        "from sklearn.metrics import confusion_matrix\n",
        "import seaborn as sns\n",
        "import matplotlib.pyplot as plt\n",
        "\n",
        "# Generate the confusion matrix\n",
        "cm = confusion_matrix(y_test, y_pred)\n",
        "\n",
        "# Create a heatmap of the confusion matrix\n",
        "plt.figure(figsize=(8, 6))\n",
        "sns.heatmap(cm, annot=True, fmt='d', cmap='Blues', xticklabels=['Fake', 'Real'], yticklabels=['Fake', 'Real'])\n",
        "plt.xlabel('Predicted')\n",
        "plt.ylabel('Actual')\n",
        "plt.title('Confusion Matrix')\n",
        "plt.show()"
      ],
      "execution_count": 11,
      "outputs": [
        {
          "output_type": "display_data",
          "data": {
            "text/plain": [
              "<Figure size 800x600 with 2 Axes>"
            ],
            "image/png": "[encoded data removed]"
          },
          "metadata": {}
        }
      ]
    }
  ]
}